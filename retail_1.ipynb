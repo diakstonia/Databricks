{
 "cells": [
  {
   "cell_type": "markdown",
   "metadata": {
    "application/vnd.databricks.v1+cell": {
     "cellMetadata": {
      "byteLimit": 2048000,
      "rowLimit": 10000
     },
     "inputWidgets": {},
     "nuid": "a64da3ce-759c-4948-b0a1-ed71bb5e8ca5",
     "showTitle": false,
     "tableResultSettingsMap": {},
     "title": ""
    }
   },
   "source": [
    "**Indicateurs clés de l'analyse de vente au détail : ventes, marges et plus**\n",
    "\n",
    "L'analyse du commerce de détail consiste à prendre des décisions fondées sur les données pour améliorer les résultats commerciaux. Les indicateurs clés de performance (ICP) évaluent les performances d'une entreprise de vente au détail et permettent de suivre tous les aspects de son activité, de la croissance des ventes à la satisfaction client."
   ]
  },
  {
   "cell_type": "markdown",
   "metadata": {
    "application/vnd.databricks.v1+cell": {
     "cellMetadata": {
      "byteLimit": 2048000,
      "rowLimit": 10000
     },
     "inputWidgets": {},
     "nuid": "cb10913c-9005-4bb3-b160-27e31a1fb359",
     "showTitle": false,
     "tableResultSettingsMap": {},
     "title": ""
    }
   },
   "source": [
    "**Contexte commercial : l'importance des indicateurs de vente au détail**\n",
    "\n",
    "Les entreprises de vente au détail évoluent dans un environnement concurrentiel où la compréhension du comportement des clients, de la performance des produits et de la santé financière est essentielle. Mesurer et analyser les indicateurs clés de la vente au détail permet aux entreprises de :\n",
    "- Optimiser les stratégies de tarification\n",
    "- Améliorer la gestion des stocks\n",
    "- Améliorer la satisfaction client\n",
    "- Maximiser les revenus et la rentabilité\n",
    "\n",
    "Les détaillants s'appuient sur divers indicateurs, mais les plus essentiels concernent les **ventes**, les **marges** et le **comportement des clients**. \n",
    "\n",
    "Examinons quelques indicateurs clés que tout détaillant devrait suivre."
   ]
  },
  {
   "cell_type": "markdown",
   "metadata": {
    "application/vnd.databricks.v1+cell": {
     "cellMetadata": {
      "byteLimit": 2048000,
      "rowLimit": 10000
     },
     "inputWidgets": {},
     "nuid": "c564aaf0-7f14-42b8-8fe5-71c16ba2bb98",
     "showTitle": false,
     "tableResultSettingsMap": {},
     "title": ""
    }
   },
   "source": [
    "## Indicateurs clés du commerce de détail et leur importance\n",
    "- ## Indicateurs de vente\n",
    "\n",
    "**Chiffre d'affaires total** : Revenu total généré par la vente de produits. Utilisé pour évaluer la performance globale d'un magasin ou d'une gamme de produits et orienter les prévisions de revenus.\n",
    "\n",
    "**Croissance des ventes à magasins comparables** : mesure la performance des ventes des magasins existants, hors ouvertures de nouveaux magasins. Les détaillants l'utilisent pour déterminer si la croissance des ventes est due à la croissance organique ou à l'expansion.\n",
    "\n",
    "**Valeur moyenne des transactions (VMT)** : Total des ventes divisé par le nombre de transactions. Les détaillants utilisent la VMT pour élaborer des stratégies de ventes incitatives et croisées.\n",
    "\n",
    "**Ventes au pied carré** : permet de déterminer l'efficacité avec laquelle un magasin utilise son espace. Utilisé dans les magasins physiques pour optimiser l'agencement et le placement des produits.\n",
    "\n",
    "- ## Indicateurs de rentabilité\n",
    "\n",
    "**Marge brute** : (Revenu — Coût des marchandises vendues) / Revenu * 100. Utilisé par les détaillants pour s'assurer qu'ils maintiennent des marges bénéficiaires saines sur les produits.\n",
    "\n",
    "**Marge bénéficiaire nette** : (Bénéfice net / Chiffre d'affaires) * 100. Les détaillants l'utilisent pour évaluer la rentabilité globale de l'entreprise.\n",
    "\n",
    "**Retour sur investissement (ROI)** : Mesure la rentabilité des investissements réalisés en marketing, en stocks et en opérations. Il permet de prendre des décisions d'investissement fondées sur les données pour les campagnes et l'amélioration des magasins.\n",
    "\n",
    "- ## Indicateurs clients\n",
    "\n",
    "**Valeur vie client (VVC)** : prédit le chiffre d'affaires total qu'un détaillant peut espérer d'un client unique au cours de son engagement. Elle permet de déterminer le budget à consacrer à l'acquisition de nouveaux clients et à la fidélisation des clients existants.\n",
    "\n",
    "**Taux de fidélisation client** : mesure le nombre de clients qui reviennent au fil du temps. Utilisé pour évaluer les programmes de fidélisation et les stratégies d'engagement client.\n",
    "\n",
    "**Coût d'acquisition client (CAC)** : Coût d'acquisition d'un nouveau client par le biais du marketing et des promotions. Il permet de s'assurer que les dépenses marketing sont justifiées par les revenus générés par les nouveaux clients.\n",
    "\n",
    "- ## Inventaire et mesures opérationnelles\n",
    "\n",
    "**Taux de rotation des stocks** : mesure la fréquence de vente et de remplacement des stocks. Utilisé par les détaillants pour optimiser les niveaux de stock et éviter les surstocks ou les ruptures de stock.\n",
    "\n",
    "**Taux de vente** : (unités vendues / stock initial) * 100. Les détaillants l'utilisent pour évaluer la demande de produits et ajuster les prix ou les niveaux de stock en conséquence.\n",
    "\n",
    "**Démarque** : perte de stock due à un vol, un dommage ou une erreur administrative. Utilisé pour améliorer les stratégies de prévention des pertes et renforcer les mesures de sécurité.\n",
    "\n",
    "- ## Indicateurs omnicanaux\n",
    "\n",
    "**Répartition des ventes en ligne et en magasin** : Comprendre la répartition des ventes entre les canaux. Facilite la répartition des ressources entre les canaux de vente en ligne et hors ligne.\n",
    "\n",
    "**Taux d'abandon de panier** : pourcentage d'acheteurs en ligne qui ajoutent des produits à leur panier, mais ne finalisent pas l'achat. Utilisé par les entreprises de e-commerce pour optimiser les processus de paiement et réduire les frictions.\n",
    "\n",
    "**Taux de conversion** : pourcentage de visiteurs d'un magasin ou d'un site web effectuant un achat. Utilisé pour mesurer l'efficacité des campagnes marketing et des modifications d'agencement du magasin."
   ]
  },
  {
   "cell_type": "markdown",
   "metadata": {
    "application/vnd.databricks.v1+cell": {
     "cellMetadata": {
      "byteLimit": 2048000,
      "rowLimit": 10000
     },
     "inputWidgets": {},
     "nuid": "bb98cafc-5519-4763-8234-c3fca6abc8cb",
     "showTitle": false,
     "tableResultSettingsMap": {},
     "title": ""
    }
   },
   "source": [
    "# Implémentation des indicateurs de vente au détail \n",
    "\n",
    "**Sources de données pour les indicateurs de vente au détail**\n",
    "\n",
    "Les données de vente au détail peuvent provenir de plusieurs sources, notamment :\n",
    "- Systèmes de point de vente (POS)\n",
    "- Outils de gestion de la relation client (CRM)\n",
    "- Systèmes de gestion des stocks\n",
    "- plateformes de commerce électronique\n",
    "\n",
    "**Traitement et analyse des métriques**\n",
    "\n",
    "Explorons un exemple PySpark pour calculer quelques indicateurs clés du commerce de détail."
   ]
  },
  {
   "cell_type": "markdown",
   "metadata": {
    "application/vnd.databricks.v1+cell": {
     "cellMetadata": {
      "byteLimit": 2048000,
      "rowLimit": 10000
     },
     "inputWidgets": {},
     "nuid": "706ecf00-eefc-4b73-8969-7a0414ce4fa0",
     "showTitle": false,
     "tableResultSettingsMap": {},
     "title": ""
    }
   },
   "source": [
    "- Étape 1 : Création d'un jeu de données\n",
    "\n",
    "On va d'abord créer un DataFrame avec un schéma cohérent, puis l'enregistrer au format **Delta**."
   ]
  },
  {
   "cell_type": "code",
   "execution_count": 0,
   "metadata": {
    "application/vnd.databricks.v1+cell": {
     "cellMetadata": {
      "byteLimit": 2048000,
      "rowLimit": 10000
     },
     "inputWidgets": {},
     "nuid": "bd40389c-dbdb-4432-a188-87b6d0b3b5cc",
     "showTitle": false,
     "tableResultSettingsMap": {},
     "title": ""
    }
   },
   "outputs": [],
   "source": [
    "from pyspark.sql import SparkSession\n",
    "from pyspark.sql.types import StructType, StructField, StringType, DoubleType, DateType\n",
    "from datetime import date\n",
    "\n",
    "# Créer la session Spark\n",
    "spark = SparkSession.builder.appName(\"RetailMetrics\").getOrCreate()\n",
    "\n",
    "# Créer une base si elle n'existe pas\n",
    "spark.sql(\"CREATE DATABASE IF NOT EXISTS retail_db\")\n",
    "\n",
    "# Définir le schéma du DataFrame\n",
    "schema = StructType([\n",
    "    StructField(\"transaction_id\", StringType(), False),\n",
    "    StructField(\"store_id\", StringType(), False),\n",
    "    StructField(\"product_id\", StringType(), False),\n",
    "    StructField(\"sales_amount\", DoubleType(), False),\n",
    "    StructField(\"cost_of_goods_sold\", DoubleType(), False),\n",
    "    StructField(\"sale_date\", DateType(), False)\n",
    "])\n",
    "\n",
    "# Données d'exemple\n",
    "data = [\n",
    "    (\"T001\", \"StoreA\", \"Prod1\", 59.97, 30.00, date(2025, 7, 1)),\n",
    "    (\"T002\", \"StoreB\", \"Prod2\", 49.99, 25.00, date(2025, 7, 2)),\n",
    "    (\"T003\", \"StoreA\", \"Prod3\", 11.98, 6.00,  date(2025, 7, 3)),\n",
    "    (\"T004\", \"StoreC\", \"Prod1\", 79.96, 40.00, date(2025, 7, 3)),\n",
    "    (\"T005\", \"StoreB\", \"Prod2\", 49.99, 25.00, date(2025, 7, 4)),\n",
    "    (\"T006\", \"StoreA\", \"Prod1\", 99.95, 50.00, date(2025, 7, 5)),\n",
    "]\n",
    "\n",
    "# Créer le DataFrame\n",
    "sales_df = spark.createDataFrame(data, schema=schema)\n",
    "\n",
    "# Sauvegarder comme table Delta managée (dans le metastore)\n",
    "sales_df.write.format(\"delta\").mode(\"overwrite\").saveAsTable(\"retail_db.retail_sales\")\n",
    "\n",
    "print(\"✅ Table Delta 'retail_db.retail_sales' créée avec succès.\")\n"
   ]
  },
  {
   "cell_type": "markdown",
   "metadata": {
    "application/vnd.databricks.v1+cell": {
     "cellMetadata": {
      "byteLimit": 2048000,
      "rowLimit": 10000
     },
     "inputWidgets": {},
     "nuid": "a0b42ce1-512f-4bb0-accc-da193032013d",
     "showTitle": false,
     "tableResultSettingsMap": {},
     "title": ""
    }
   },
   "source": [
    "- Étape 2 : Charger les données"
   ]
  },
  {
   "cell_type": "code",
   "execution_count": 0,
   "metadata": {
    "application/vnd.databricks.v1+cell": {
     "cellMetadata": {
      "byteLimit": 2048000,
      "rowLimit": 10000
     },
     "inputWidgets": {},
     "nuid": "b1a28fbd-2cc2-41ab-a312-b6664584e9bd",
     "showTitle": false,
     "tableResultSettingsMap": {},
     "title": ""
    }
   },
   "outputs": [],
   "source": [
    "from pyspark.sql.functions import col, sum, avg\n",
    "\n",
    "# Lire la table Delta\n",
    "sales_df = spark.table(\"retail_db.retail_sales\")\n",
    "\n"
   ]
  },
  {
   "cell_type": "markdown",
   "metadata": {
    "application/vnd.databricks.v1+cell": {
     "cellMetadata": {
      "byteLimit": 2048000,
      "rowLimit": 10000
     },
     "inputWidgets": {},
     "nuid": "897a14e0-0541-4839-99b9-f83614e464d9",
     "showTitle": false,
     "tableResultSettingsMap": {},
     "title": ""
    }
   },
   "source": [
    "- Étape 3 : Calculer les indicateurs clés"
   ]
  },
  {
   "cell_type": "code",
   "execution_count": 0,
   "metadata": {
    "application/vnd.databricks.v1+cell": {
     "cellMetadata": {
      "byteLimit": 2048000,
      "rowLimit": 10000
     },
     "inputWidgets": {},
     "nuid": "39d227bf-3f70-4625-9fa5-f7dd196d6dd6",
     "showTitle": false,
     "tableResultSettingsMap": {},
     "title": ""
    }
   },
   "outputs": [],
   "source": [
    "# Total Sales Revenue\n",
    "total_sales = sales_df.groupBy().sum(\"sales_amount\").collect()[0][0]\n",
    "\n",
    "# Average Transaction Value\n",
    "atv_df = sales_df.groupBy(\"transaction_id\") \\\n",
    "    .sum(\"sales_amount\") \\\n",
    "    .withColumnRenamed(\"sum(sales_amount)\", \"total_per_transaction\")\n",
    "atv = atv_df.select(avg(\"total_per_transaction\")).collect()[0][0]\n",
    "\n",
    "# Gross Margin Calculation\n",
    "gross_margin_df = sales_df.withColumn(\n",
    "    \"gross_margin\",\n",
    "    (col(\"sales_amount\") - col(\"cost_of_goods_sold\")) / col(\"sales_amount\")\n",
    ")\n",
    "gross_margin = gross_margin_df.agg(avg(\"gross_margin\")).collect()[0][0] * 100"
   ]
  },
  {
   "cell_type": "markdown",
   "metadata": {
    "application/vnd.databricks.v1+cell": {
     "cellMetadata": {
      "byteLimit": 2048000,
      "rowLimit": 10000
     },
     "inputWidgets": {},
     "nuid": "a76b00f8-ee3e-4694-a20d-cc2e6e2f0589",
     "showTitle": false,
     "tableResultSettingsMap": {},
     "title": ""
    }
   },
   "source": [
    "- Étape 4 : Affichage des résultats"
   ]
  },
  {
   "cell_type": "code",
   "execution_count": 0,
   "metadata": {
    "application/vnd.databricks.v1+cell": {
     "cellMetadata": {
      "byteLimit": 2048000,
      "rowLimit": 10000
     },
     "inputWidgets": {},
     "nuid": "b7aadb55-93a6-4e10-b965-f1cd31ca175f",
     "showTitle": false,
     "tableResultSettingsMap": {},
     "title": ""
    }
   },
   "outputs": [],
   "source": [
    "# Affichage des résultats\n",
    "print(f\"💰 Total Sales Revenue: {total_sales:.2f}\")\n",
    "print(f\"🧾 Average Transaction Value: {atv:.2f}\")\n",
    "print(f\"📊 Average Gross Margin: {gross_margin:.2f}%\")"
   ]
  },
  {
   "cell_type": "markdown",
   "metadata": {
    "application/vnd.databricks.v1+cell": {
     "cellMetadata": {
      "byteLimit": 2048000,
      "rowLimit": 10000
     },
     "inputWidgets": {},
     "nuid": "d3d68fd6-0cfe-4dc1-9edc-55b003a1d7fc",
     "showTitle": false,
     "tableResultSettingsMap": {},
     "title": ""
    }
   },
   "source": [
    "**Conclusion**\n",
    "\n",
    "Le suivi et l'analyse des indicateurs clés du commerce de détail sont essentiels pour prendre des décisions fondées sur les données.\n",
    "\n",
    "Dans cet exemple, nous avons exploré des indicateurs importants tels que le chiffre d'affaires, les marges, le comportement des clients et la performance des stocks."
   ]
  }
 ],
 "metadata": {
  "application/vnd.databricks.v1+notebook": {
   "computePreferences": null,
   "dashboards": [],
   "environmentMetadata": {
    "base_environment": "",
    "environment_version": "2"
   },
   "inputWidgetPreferences": null,
   "language": "python",
   "notebookMetadata": {
    "pythonIndentUnit": 4
   },
   "notebookName": "retail_1",
   "widgets": {}
  },
  "language_info": {
   "name": "python"
  }
 },
 "nbformat": 4,
 "nbformat_minor": 0
}
